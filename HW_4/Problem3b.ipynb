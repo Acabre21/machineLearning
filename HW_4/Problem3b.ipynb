{
  "nbformat": 4,
  "nbformat_minor": 0,
  "metadata": {
    "colab": {
      "name": "pretrained_convnet_finetuning.ipynb",
      "provenance": [],
      "include_colab_link": true
    },
    "kernelspec": {
      "name": "python3",
      "display_name": "Python 3"
    },
    "accelerator": "GPU"
  },
  "cells": [
    {
      "cell_type": "markdown",
      "metadata": {
        "id": "view-in-github",
        "colab_type": "text"
      },
      "source": [
        "<a href=\"https://colab.research.google.com/github/Acabre21/machineLearning/blob/master/Problem3b.ipynb\" target=\"_parent\"><img src=\"https://colab.research.google.com/assets/colab-badge.svg\" alt=\"Open In Colab\"/></a>"
      ]
    },
    {
      "cell_type": "markdown",
      "metadata": {
        "id": "KSrgMJ5vKFzQ",
        "colab_type": "text"
      },
      "source": [
        "# Fine-tuning Xception\n",
        "\n",
        "I have replaced the VGG16 CNN with the Xeption CNN. I have modified the classifier by adding a dense layer with 128 neurons and a tanh activation function. I have also removed one of the previous dense layers as I think haveing three in my other CNN caused overfitting and high loss. This CNN now uses two dense layers. In addition to that, I have also unfrozen the conv2d_6 layer. \n",
        "\n",
        "Compared to the CNN in problem 3a, the loss and accuracy are very simliar. The subtraction of a dense layer did not have a huge impact on either result. \n",
        "\n",
        "Validation loss: 0.5675493478775024\n",
        "\n",
        "Validation accuracy: 0.9760000109672546"
      ]
    },
    {
      "cell_type": "code",
      "metadata": {
        "id": "JWjprHEXJ5Qi",
        "colab_type": "code",
        "outputId": "6a72264f-9133-491c-8040-c6b561e9d455",
        "colab": {
          "base_uri": "https://localhost:8080/",
          "height": 201
        }
      },
      "source": [
        "!wget --no-check-certificate \\\n",
        "    https://storage.googleapis.com/mledu-datasets/cats_and_dogs_filtered.zip \\\n",
        "    -O /tmp/cats_and_dogs_filtered.zip"
      ],
      "execution_count": 1,
      "outputs": [
        {
          "output_type": "stream",
          "text": [
            "--2020-04-22 00:22:59--  https://storage.googleapis.com/mledu-datasets/cats_and_dogs_filtered.zip\n",
            "Resolving storage.googleapis.com (storage.googleapis.com)... 172.217.194.128, 2404:6800:4003:c04::80\n",
            "Connecting to storage.googleapis.com (storage.googleapis.com)|172.217.194.128|:443... connected.\n",
            "HTTP request sent, awaiting response... 200 OK\n",
            "Length: 68606236 (65M) [application/zip]\n",
            "Saving to: ‘/tmp/cats_and_dogs_filtered.zip’\n",
            "\n",
            "/tmp/cats_and_dogs_ 100%[===================>]  65.43M  64.8MB/s    in 1.0s    \n",
            "\n",
            "2020-04-22 00:23:01 (64.8 MB/s) - ‘/tmp/cats_and_dogs_filtered.zip’ saved [68606236/68606236]\n",
            "\n"
          ],
          "name": "stdout"
        }
      ]
    },
    {
      "cell_type": "code",
      "metadata": {
        "id": "WvoHtdA-K6Rw",
        "colab_type": "code",
        "colab": {}
      },
      "source": [
        "import os\n",
        "import zipfile\n",
        "\n",
        "local_zip = '/tmp/cats_and_dogs_filtered.zip'\n",
        "zip_ref = zipfile.ZipFile(local_zip, 'r')\n",
        "zip_ref.extractall('/tmp')\n",
        "zip_ref.close()"
      ],
      "execution_count": 0,
      "outputs": []
    },
    {
      "cell_type": "markdown",
      "metadata": {
        "id": "shZiOBnJMyy_",
        "colab_type": "text"
      },
      "source": [
        "Note that the data provided by Google does not have a test set."
      ]
    },
    {
      "cell_type": "code",
      "metadata": {
        "id": "dL8ikM89LlsH",
        "colab_type": "code",
        "colab": {}
      },
      "source": [
        "base_dir = '/tmp/cats_and_dogs_filtered'\n",
        "train_dir = os.path.join(base_dir, 'train')\n",
        "validation_dir = os.path.join(base_dir, 'validation')\n",
        "\n",
        "# Directory with our training cat pictures\n",
        "train_cats_dir = os.path.join(train_dir, 'cats')\n",
        "\n",
        "# Directory with our training dog pictures\n",
        "train_dogs_dir = os.path.join(train_dir, 'dogs')\n",
        "\n",
        "# Directory with our validation cat pictures\n",
        "validation_cats_dir = os.path.join(validation_dir, 'cats')\n",
        "\n",
        "# Directory with our validation dog pictures\n",
        "validation_dogs_dir = os.path.join(validation_dir, 'dogs')"
      ],
      "execution_count": 0,
      "outputs": []
    },
    {
      "cell_type": "markdown",
      "metadata": {
        "id": "inyP8bcdXnn-",
        "colab_type": "text"
      },
      "source": [
        "## Build network with Xception convolution base and custom densely connected layers"
      ]
    },
    {
      "cell_type": "markdown",
      "metadata": {
        "id": "kQ48W5T9rHWu",
        "colab_type": "text"
      },
      "source": [
        "### Load the convolutional base"
      ]
    },
    {
      "cell_type": "code",
      "metadata": {
        "id": "Y0FgtANCXm_H",
        "colab_type": "code",
        "colab": {}
      },
      "source": [
        "from keras.applications import Xception\n",
        "\n",
        "conv_base = Xception(\n",
        "    weights='imagenet', \n",
        "    include_top=False, \n",
        "    input_shape=(150, 150, 3))"
      ],
      "execution_count": 0,
      "outputs": []
    },
    {
      "cell_type": "markdown",
      "metadata": {
        "id": "D6OBHOO9q1ou",
        "colab_type": "text"
      },
      "source": [
        "### Freeze the convolutional base"
      ]
    },
    {
      "cell_type": "code",
      "metadata": {
        "id": "UleRo4Dpq6Ld",
        "colab_type": "code",
        "colab": {}
      },
      "source": [
        "conv_base.trainable = False"
      ],
      "execution_count": 0,
      "outputs": []
    },
    {
      "cell_type": "markdown",
      "metadata": {
        "id": "Qfx6PqhPrb7Q",
        "colab_type": "text"
      },
      "source": [
        "### Concatenate the convolutional base and densely connected layers"
      ]
    },
    {
      "cell_type": "code",
      "metadata": {
        "id": "qUpmocDAO3xm",
        "colab_type": "code",
        "colab": {}
      },
      "source": [
        "from keras import layers\n",
        "from keras import models\n",
        "from keras import optimizers\n",
        "\n",
        "model = models.Sequential()\n",
        "model.add(conv_base)\n",
        "model.add(layers.Flatten())\n",
        "model.add(layers.Dense(128, activation='tanh'))\n",
        "model.add(layers.Dense(1, activation='sigmoid'))"
      ],
      "execution_count": 0,
      "outputs": []
    },
    {
      "cell_type": "code",
      "metadata": {
        "id": "Fh6gZSeAjF7c",
        "colab_type": "code",
        "outputId": "77e5459b-fd7f-4d61-cd89-537eec3af18a",
        "colab": {
          "base_uri": "https://localhost:8080/",
          "height": 284
        }
      },
      "source": [
        "model.summary()"
      ],
      "execution_count": 10,
      "outputs": [
        {
          "output_type": "stream",
          "text": [
            "Model: \"sequential_2\"\n",
            "_________________________________________________________________\n",
            "Layer (type)                 Output Shape              Param #   \n",
            "=================================================================\n",
            "xception (Model)             (None, 5, 5, 2048)        20861480  \n",
            "_________________________________________________________________\n",
            "flatten_2 (Flatten)          (None, 51200)             0         \n",
            "_________________________________________________________________\n",
            "dense_3 (Dense)              (None, 128)               6553728   \n",
            "_________________________________________________________________\n",
            "dense_4 (Dense)              (None, 1)                 129       \n",
            "=================================================================\n",
            "Total params: 27,415,337\n",
            "Trainable params: 6,553,857\n",
            "Non-trainable params: 20,861,480\n",
            "_________________________________________________________________\n"
          ],
          "name": "stdout"
        }
      ]
    },
    {
      "cell_type": "markdown",
      "metadata": {
        "id": "eZjBiddhi5Qj",
        "colab_type": "text"
      },
      "source": [
        "## Train the model end to end with frozen convolutional base"
      ]
    },
    {
      "cell_type": "code",
      "metadata": {
        "id": "tfAQlC2Oi41L",
        "colab_type": "code",
        "outputId": "48f2057f-f236-4d69-da89-e815e37331df",
        "colab": {
          "base_uri": "https://localhost:8080/",
          "height": 1000
        }
      },
      "source": [
        "from keras.preprocessing.image import ImageDataGenerator\n",
        "from keras import optimizers\n",
        "\n",
        "# data augmentation\n",
        "\n",
        "train_datagen = ImageDataGenerator(\n",
        "    rescale=1./255, \n",
        "    rotation_range=40,\n",
        "    width_shift_range=0.2,\n",
        "    height_shift_range=0.2,\n",
        "    shear_range=0.2,\n",
        "    zoom_range=0.2,\n",
        "    horizontal_flip=True,\n",
        "    fill_mode='nearest'\n",
        ")\n",
        "\n",
        "train_generator = train_datagen.flow_from_directory(\n",
        "    train_dir,\n",
        "    target_size=(150, 150),\n",
        "    batch_size=20,\n",
        "    class_mode='binary')\n",
        "\n",
        "validation_datagen = ImageDataGenerator(rescale=1./255)\n",
        "\n",
        "validation_generator = validation_datagen.flow_from_directory(\n",
        "    validation_dir,\n",
        "    target_size=(150, 150),\n",
        "    batch_size=20,\n",
        "    class_mode='binary')\n",
        "\n",
        "# compile model\n",
        "\n",
        "model.compile(\n",
        "    loss='binary_crossentropy', \n",
        "    optimizer=optimizers.RMSprop(lr=2e-5), \n",
        "    metrics=['acc'])\n",
        "\n",
        "# train\n",
        "\n",
        "history = model.fit_generator(\n",
        "    train_generator,\n",
        "    steps_per_epoch=100,\n",
        "    epochs=30,\n",
        "    validation_data=validation_generator,\n",
        "    validation_steps=50\n",
        ")"
      ],
      "execution_count": 11,
      "outputs": [
        {
          "output_type": "stream",
          "text": [
            "Found 2000 images belonging to 2 classes.\n",
            "Found 1000 images belonging to 2 classes.\n",
            "Epoch 1/30\n",
            "100/100 [==============================] - 29s 292ms/step - loss: 0.4690 - acc: 0.7665 - val_loss: 0.0681 - val_acc: 0.9340\n",
            "Epoch 2/30\n",
            "100/100 [==============================] - 20s 198ms/step - loss: 0.3599 - acc: 0.8330 - val_loss: 0.1093 - val_acc: 0.9590\n",
            "Epoch 3/30\n",
            "100/100 [==============================] - 20s 198ms/step - loss: 0.3526 - acc: 0.8405 - val_loss: 0.1518 - val_acc: 0.9630\n",
            "Epoch 4/30\n",
            "100/100 [==============================] - 20s 196ms/step - loss: 0.3359 - acc: 0.8400 - val_loss: 0.0246 - val_acc: 0.9470\n",
            "Epoch 5/30\n",
            "100/100 [==============================] - 19s 194ms/step - loss: 0.3514 - acc: 0.8395 - val_loss: 0.0257 - val_acc: 0.9670\n",
            "Epoch 6/30\n",
            "100/100 [==============================] - 20s 195ms/step - loss: 0.2925 - acc: 0.8690 - val_loss: 0.0044 - val_acc: 0.9690\n",
            "Epoch 7/30\n",
            "100/100 [==============================] - 19s 194ms/step - loss: 0.3205 - acc: 0.8525 - val_loss: 0.2364 - val_acc: 0.9620\n",
            "Epoch 8/30\n",
            "100/100 [==============================] - 20s 195ms/step - loss: 0.2738 - acc: 0.8735 - val_loss: 0.4485 - val_acc: 0.9680\n",
            "Epoch 9/30\n",
            "100/100 [==============================] - 19s 193ms/step - loss: 0.3201 - acc: 0.8590 - val_loss: 0.0030 - val_acc: 0.9590\n",
            "Epoch 10/30\n",
            "100/100 [==============================] - 19s 193ms/step - loss: 0.3009 - acc: 0.8645 - val_loss: 0.2523 - val_acc: 0.9700\n",
            "Epoch 11/30\n",
            "100/100 [==============================] - 19s 193ms/step - loss: 0.2915 - acc: 0.8620 - val_loss: 0.0018 - val_acc: 0.9700\n",
            "Epoch 12/30\n",
            "100/100 [==============================] - 19s 193ms/step - loss: 0.2961 - acc: 0.8615 - val_loss: 0.0086 - val_acc: 0.9720\n",
            "Epoch 13/30\n",
            "100/100 [==============================] - 19s 192ms/step - loss: 0.3156 - acc: 0.8545 - val_loss: 0.3990 - val_acc: 0.9600\n",
            "Epoch 14/30\n",
            "100/100 [==============================] - 19s 192ms/step - loss: 0.2880 - acc: 0.8710 - val_loss: 0.0128 - val_acc: 0.9620\n",
            "Epoch 15/30\n",
            "100/100 [==============================] - 19s 193ms/step - loss: 0.2712 - acc: 0.8840 - val_loss: 0.0415 - val_acc: 0.9690\n",
            "Epoch 16/30\n",
            "100/100 [==============================] - 19s 194ms/step - loss: 0.2831 - acc: 0.8795 - val_loss: 0.2573 - val_acc: 0.9670\n",
            "Epoch 17/30\n",
            "100/100 [==============================] - 19s 194ms/step - loss: 0.2819 - acc: 0.8815 - val_loss: 0.0742 - val_acc: 0.9710\n",
            "Epoch 18/30\n",
            "100/100 [==============================] - 19s 193ms/step - loss: 0.2795 - acc: 0.8760 - val_loss: 0.0154 - val_acc: 0.9750\n",
            "Epoch 19/30\n",
            "100/100 [==============================] - 19s 193ms/step - loss: 0.2823 - acc: 0.8775 - val_loss: 0.1105 - val_acc: 0.9630\n",
            "Epoch 20/30\n",
            "100/100 [==============================] - 19s 193ms/step - loss: 0.2833 - acc: 0.8780 - val_loss: 0.0067 - val_acc: 0.9700\n",
            "Epoch 21/30\n",
            "100/100 [==============================] - 19s 192ms/step - loss: 0.2874 - acc: 0.8685 - val_loss: 1.1347e-04 - val_acc: 0.9710\n",
            "Epoch 22/30\n",
            "100/100 [==============================] - 19s 194ms/step - loss: 0.2585 - acc: 0.8805 - val_loss: 0.1827 - val_acc: 0.9730\n",
            "Epoch 23/30\n",
            "100/100 [==============================] - 19s 193ms/step - loss: 0.2846 - acc: 0.8740 - val_loss: 0.0027 - val_acc: 0.9730\n",
            "Epoch 24/30\n",
            "100/100 [==============================] - 19s 192ms/step - loss: 0.2927 - acc: 0.8650 - val_loss: 0.0179 - val_acc: 0.9680\n",
            "Epoch 25/30\n",
            "100/100 [==============================] - 19s 192ms/step - loss: 0.2549 - acc: 0.8880 - val_loss: 0.0961 - val_acc: 0.9730\n",
            "Epoch 26/30\n",
            "100/100 [==============================] - 19s 192ms/step - loss: 0.2530 - acc: 0.8880 - val_loss: 0.1203 - val_acc: 0.9710\n",
            "Epoch 27/30\n",
            "100/100 [==============================] - 19s 191ms/step - loss: 0.2621 - acc: 0.8800 - val_loss: 0.0150 - val_acc: 0.9690\n",
            "Epoch 28/30\n",
            "100/100 [==============================] - 19s 193ms/step - loss: 0.2776 - acc: 0.8770 - val_loss: 0.0078 - val_acc: 0.9680\n",
            "Epoch 29/30\n",
            "100/100 [==============================] - 19s 193ms/step - loss: 0.2872 - acc: 0.8745 - val_loss: 0.0014 - val_acc: 0.9690\n",
            "Epoch 30/30\n",
            "100/100 [==============================] - 19s 191ms/step - loss: 0.2804 - acc: 0.8850 - val_loss: 0.0128 - val_acc: 0.9680\n"
          ],
          "name": "stdout"
        }
      ]
    },
    {
      "cell_type": "markdown",
      "metadata": {
        "id": "xqRc_vHKc92U",
        "colab_type": "text"
      },
      "source": [
        "## Display curves of loss and accuracy during training"
      ]
    },
    {
      "cell_type": "code",
      "metadata": {
        "id": "ybWwdzz9bwuQ",
        "colab_type": "code",
        "outputId": "075342d3-2598-454e-8d46-0090c67f3bf9",
        "colab": {
          "base_uri": "https://localhost:8080/",
          "height": 545
        }
      },
      "source": [
        "%matplotlib inline\n",
        "\n",
        "import matplotlib.pyplot as plt\n",
        "\n",
        "acc = history.history['acc']\n",
        "val_acc = history.history['val_acc']\n",
        "\n",
        "loss = history.history['loss']\n",
        "val_loss = history.history['val_loss']\n",
        "\n",
        "epochs = range(1, len(acc) + 1)\n",
        "\n",
        "# training and validation accuracy\n",
        "\n",
        "plt.plot(epochs, acc, 'bo', label='training acc')\n",
        "plt.plot(epochs, val_acc, 'b', label='validation acc')\n",
        "plt.title('training and validation accuracy')\n",
        "plt.legend()\n",
        "\n",
        "plt.figure()\n",
        "\n",
        "# training and validation loss\n",
        "\n",
        "plt.plot(epochs, loss, 'bo', label='training loss')\n",
        "plt.plot(epochs, val_loss, 'b', label='validation loss')\n",
        "plt.title('training and validation loss')\n",
        "plt.legend()\n",
        "\n",
        "plt.show()"
      ],
      "execution_count": 12,
      "outputs": [
        {
          "output_type": "display_data",
          "data": {
            "image/png": "[encoded data removed]",
            "text/plain": [
              "<Figure size 432x288 with 1 Axes>"
            ]
          },
          "metadata": {
            "tags": [],
            "needs_background": "light"
          }
        },
        {
          "output_type": "display_data",
          "data": {
            "image/png": "[encoded data removed]",
            "text/plain": [
              "<Figure size 432x288 with 1 Axes>"
            ]
          },
          "metadata": {
            "tags": [],
            "needs_background": "light"
          }
        }
      ]
    },
    {
      "cell_type": "markdown",
      "metadata": {
        "id": "lOWsxpey8lN0",
        "colab_type": "text"
      },
      "source": [
        "## Fine-tuning"
      ]
    },
    {
      "cell_type": "code",
      "metadata": {
        "id": "PwkVMx8N8qMw",
        "colab_type": "code",
        "colab": {}
      },
      "source": [
        "conv_base.trainable = True\n",
        "\n",
        "set_trainable = False\n",
        "for layer in conv_base.layers:\n",
        "  # unfreezing conv2d_6\n",
        "  if layer.name == 'conv2d_6':\n",
        "    set_trainable = True\n",
        "  if set_trainable:\n",
        "    layer.trainable = True\n",
        "  else:\n",
        "    layer.trainable = False"
      ],
      "execution_count": 0,
      "outputs": []
    },
    {
      "cell_type": "code",
      "metadata": {
        "id": "DyN-J7rs9cvo",
        "colab_type": "code",
        "outputId": "d55247c0-c493-48f3-e060-b2c1c7bb84c2",
        "colab": {
          "base_uri": "https://localhost:8080/",
          "height": 1000
        }
      },
      "source": [
        "# compile model\n",
        "\n",
        "model.compile(\n",
        "    loss='binary_crossentropy',\n",
        "    #\n",
        "    # choose a smaller learning rate\n",
        "    #\n",
        "    optimizer=optimizers.RMSprop(lr=1e-5), \n",
        "    metrics=['acc'])\n",
        "\n",
        "# train\n",
        "\n",
        "history = model.fit_generator(\n",
        "    train_generator,\n",
        "    steps_per_epoch=100,\n",
        "    epochs=100,\n",
        "    validation_data=validation_generator,\n",
        "    validation_steps=50)"
      ],
      "execution_count": 16,
      "outputs": [
        {
          "output_type": "stream",
          "text": [
            "Epoch 1/100\n",
            "100/100 [==============================] - 37s 366ms/step - loss: 0.2481 - acc: 0.8905 - val_loss: 0.2367 - val_acc: 0.9560\n",
            "Epoch 2/100\n",
            "100/100 [==============================] - 28s 276ms/step - loss: 0.2312 - acc: 0.9090 - val_loss: 0.3100 - val_acc: 0.9320\n",
            "Epoch 3/100\n",
            "100/100 [==============================] - 28s 276ms/step - loss: 0.1941 - acc: 0.9190 - val_loss: 0.0603 - val_acc: 0.9500\n",
            "Epoch 4/100\n",
            "100/100 [==============================] - 28s 275ms/step - loss: 0.1815 - acc: 0.9230 - val_loss: 0.0311 - val_acc: 0.9460\n",
            "Epoch 5/100\n",
            "100/100 [==============================] - 28s 276ms/step - loss: 0.1783 - acc: 0.9225 - val_loss: 0.0416 - val_acc: 0.9490\n",
            "Epoch 6/100\n",
            "100/100 [==============================] - 28s 276ms/step - loss: 0.1629 - acc: 0.9360 - val_loss: 0.0539 - val_acc: 0.9530\n",
            "Epoch 7/100\n",
            "100/100 [==============================] - 28s 275ms/step - loss: 0.1619 - acc: 0.9405 - val_loss: 0.4991 - val_acc: 0.9510\n",
            "Epoch 8/100\n",
            "100/100 [==============================] - 28s 276ms/step - loss: 0.1523 - acc: 0.9395 - val_loss: 0.2663 - val_acc: 0.9560\n",
            "Epoch 9/100\n",
            "100/100 [==============================] - 28s 276ms/step - loss: 0.1546 - acc: 0.9400 - val_loss: 0.4347 - val_acc: 0.9490\n",
            "Epoch 10/100\n",
            "100/100 [==============================] - 28s 276ms/step - loss: 0.1204 - acc: 0.9520 - val_loss: 0.0058 - val_acc: 0.9610\n",
            "Epoch 11/100\n",
            "100/100 [==============================] - 28s 276ms/step - loss: 0.1215 - acc: 0.9510 - val_loss: 0.0522 - val_acc: 0.9560\n",
            "Epoch 12/100\n",
            "100/100 [==============================] - 28s 276ms/step - loss: 0.1246 - acc: 0.9465 - val_loss: 0.4358 - val_acc: 0.9600\n",
            "Epoch 13/100\n",
            "100/100 [==============================] - 28s 276ms/step - loss: 0.1221 - acc: 0.9550 - val_loss: 0.0129 - val_acc: 0.9570\n",
            "Epoch 14/100\n",
            "100/100 [==============================] - 28s 276ms/step - loss: 0.1064 - acc: 0.9620 - val_loss: 0.0699 - val_acc: 0.9530\n",
            "Epoch 15/100\n",
            "100/100 [==============================] - 28s 276ms/step - loss: 0.1233 - acc: 0.9520 - val_loss: 0.0547 - val_acc: 0.9630\n",
            "Epoch 16/100\n",
            "100/100 [==============================] - 28s 276ms/step - loss: 0.0887 - acc: 0.9645 - val_loss: 0.0285 - val_acc: 0.9570\n",
            "Epoch 17/100\n",
            "100/100 [==============================] - 28s 275ms/step - loss: 0.0935 - acc: 0.9605 - val_loss: 0.1151 - val_acc: 0.9630\n",
            "Epoch 18/100\n",
            "100/100 [==============================] - 28s 276ms/step - loss: 0.0945 - acc: 0.9620 - val_loss: 0.1280 - val_acc: 0.9630\n",
            "Epoch 19/100\n",
            "100/100 [==============================] - 28s 276ms/step - loss: 0.0854 - acc: 0.9695 - val_loss: 9.5173e-04 - val_acc: 0.9560\n",
            "Epoch 20/100\n",
            "100/100 [==============================] - 28s 276ms/step - loss: 0.1111 - acc: 0.9585 - val_loss: 0.0953 - val_acc: 0.9630\n",
            "Epoch 21/100\n",
            "100/100 [==============================] - 28s 275ms/step - loss: 0.0894 - acc: 0.9645 - val_loss: 0.2489 - val_acc: 0.9640\n",
            "Epoch 22/100\n",
            "100/100 [==============================] - 28s 276ms/step - loss: 0.0809 - acc: 0.9700 - val_loss: 0.1365 - val_acc: 0.9560\n",
            "Epoch 23/100\n",
            "100/100 [==============================] - 28s 276ms/step - loss: 0.0799 - acc: 0.9690 - val_loss: 0.0015 - val_acc: 0.9550\n",
            "Epoch 24/100\n",
            "100/100 [==============================] - 28s 276ms/step - loss: 0.0736 - acc: 0.9725 - val_loss: 0.0364 - val_acc: 0.9610\n",
            "Epoch 25/100\n",
            "100/100 [==============================] - 28s 276ms/step - loss: 0.0713 - acc: 0.9745 - val_loss: 0.4409 - val_acc: 0.9660\n",
            "Epoch 26/100\n",
            "100/100 [==============================] - 28s 276ms/step - loss: 0.0844 - acc: 0.9725 - val_loss: 0.0205 - val_acc: 0.9690\n",
            "Epoch 27/100\n",
            "100/100 [==============================] - 28s 276ms/step - loss: 0.0569 - acc: 0.9795 - val_loss: 0.0296 - val_acc: 0.9650\n",
            "Epoch 28/100\n",
            "100/100 [==============================] - 28s 276ms/step - loss: 0.0676 - acc: 0.9740 - val_loss: 0.1440 - val_acc: 0.9660\n",
            "Epoch 29/100\n",
            "100/100 [==============================] - 28s 275ms/step - loss: 0.0689 - acc: 0.9740 - val_loss: 0.1178 - val_acc: 0.9670\n",
            "Epoch 30/100\n",
            "100/100 [==============================] - 28s 275ms/step - loss: 0.0645 - acc: 0.9755 - val_loss: 0.0261 - val_acc: 0.9690\n",
            "Epoch 31/100\n",
            "100/100 [==============================] - 28s 275ms/step - loss: 0.0695 - acc: 0.9720 - val_loss: 0.0040 - val_acc: 0.9650\n",
            "Epoch 32/100\n",
            "100/100 [==============================] - 28s 275ms/step - loss: 0.0605 - acc: 0.9805 - val_loss: 0.1295 - val_acc: 0.9690\n",
            "Epoch 33/100\n",
            "100/100 [==============================] - 28s 275ms/step - loss: 0.0536 - acc: 0.9810 - val_loss: 0.0077 - val_acc: 0.9720\n",
            "Epoch 34/100\n",
            "100/100 [==============================] - 28s 276ms/step - loss: 0.0485 - acc: 0.9820 - val_loss: 0.0017 - val_acc: 0.9700\n",
            "Epoch 35/100\n",
            "100/100 [==============================] - 28s 275ms/step - loss: 0.0560 - acc: 0.9805 - val_loss: 8.0092e-04 - val_acc: 0.9680\n",
            "Epoch 36/100\n",
            "100/100 [==============================] - 28s 276ms/step - loss: 0.0613 - acc: 0.9740 - val_loss: 0.0077 - val_acc: 0.9720\n",
            "Epoch 37/100\n",
            "100/100 [==============================] - 28s 276ms/step - loss: 0.0530 - acc: 0.9805 - val_loss: 0.1745 - val_acc: 0.9720\n",
            "Epoch 38/100\n",
            "100/100 [==============================] - 28s 275ms/step - loss: 0.0426 - acc: 0.9830 - val_loss: 0.1970 - val_acc: 0.9710\n",
            "Epoch 39/100\n",
            "100/100 [==============================] - 28s 275ms/step - loss: 0.0484 - acc: 0.9855 - val_loss: 0.0174 - val_acc: 0.9700\n",
            "Epoch 40/100\n",
            "100/100 [==============================] - 28s 276ms/step - loss: 0.0408 - acc: 0.9865 - val_loss: 0.1831 - val_acc: 0.9700\n",
            "Epoch 41/100\n",
            "100/100 [==============================] - 28s 275ms/step - loss: 0.0405 - acc: 0.9860 - val_loss: 0.0244 - val_acc: 0.9710\n",
            "Epoch 42/100\n",
            "100/100 [==============================] - 28s 276ms/step - loss: 0.0526 - acc: 0.9815 - val_loss: 0.0726 - val_acc: 0.9650\n",
            "Epoch 43/100\n",
            "100/100 [==============================] - 28s 276ms/step - loss: 0.0364 - acc: 0.9865 - val_loss: 0.0717 - val_acc: 0.9680\n",
            "Epoch 44/100\n",
            "100/100 [==============================] - 28s 275ms/step - loss: 0.0398 - acc: 0.9875 - val_loss: 0.1052 - val_acc: 0.9660\n",
            "Epoch 45/100\n",
            "100/100 [==============================] - 28s 276ms/step - loss: 0.0444 - acc: 0.9865 - val_loss: 0.4084 - val_acc: 0.9690\n",
            "Epoch 46/100\n",
            "100/100 [==============================] - 28s 275ms/step - loss: 0.0276 - acc: 0.9890 - val_loss: 0.1786 - val_acc: 0.9680\n",
            "Epoch 47/100\n",
            "100/100 [==============================] - 28s 275ms/step - loss: 0.0468 - acc: 0.9830 - val_loss: 0.3830 - val_acc: 0.9710\n",
            "Epoch 48/100\n",
            "100/100 [==============================] - 28s 276ms/step - loss: 0.0261 - acc: 0.9895 - val_loss: 0.2823 - val_acc: 0.9620\n",
            "Epoch 49/100\n",
            "100/100 [==============================] - 28s 276ms/step - loss: 0.0419 - acc: 0.9835 - val_loss: 0.1980 - val_acc: 0.9730\n",
            "Epoch 50/100\n",
            "100/100 [==============================] - 28s 276ms/step - loss: 0.0303 - acc: 0.9890 - val_loss: 0.0015 - val_acc: 0.9700\n",
            "Epoch 51/100\n",
            "100/100 [==============================] - 28s 275ms/step - loss: 0.0247 - acc: 0.9895 - val_loss: 5.4154e-04 - val_acc: 0.9710\n",
            "Epoch 52/100\n",
            "100/100 [==============================] - 28s 276ms/step - loss: 0.0353 - acc: 0.9890 - val_loss: 0.0069 - val_acc: 0.9710\n",
            "Epoch 53/100\n",
            "100/100 [==============================] - 28s 275ms/step - loss: 0.0372 - acc: 0.9860 - val_loss: 0.0144 - val_acc: 0.9640\n",
            "Epoch 54/100\n",
            "100/100 [==============================] - 28s 275ms/step - loss: 0.0363 - acc: 0.9895 - val_loss: 0.3690 - val_acc: 0.9660\n",
            "Epoch 55/100\n",
            "100/100 [==============================] - 28s 275ms/step - loss: 0.0283 - acc: 0.9910 - val_loss: 3.7483e-04 - val_acc: 0.9670\n",
            "Epoch 56/100\n",
            "100/100 [==============================] - 28s 276ms/step - loss: 0.0289 - acc: 0.9900 - val_loss: 0.1877 - val_acc: 0.9720\n",
            "Epoch 57/100\n",
            "100/100 [==============================] - 28s 276ms/step - loss: 0.0317 - acc: 0.9900 - val_loss: 0.4805 - val_acc: 0.9700\n",
            "Epoch 58/100\n",
            "100/100 [==============================] - 28s 276ms/step - loss: 0.0254 - acc: 0.9935 - val_loss: 6.2097e-05 - val_acc: 0.9690\n",
            "Epoch 59/100\n",
            "100/100 [==============================] - 28s 276ms/step - loss: 0.0489 - acc: 0.9840 - val_loss: 0.0093 - val_acc: 0.9690\n",
            "Epoch 60/100\n",
            "100/100 [==============================] - 28s 276ms/step - loss: 0.0302 - acc: 0.9910 - val_loss: 0.2466 - val_acc: 0.9740\n",
            "Epoch 61/100\n",
            "100/100 [==============================] - 28s 276ms/step - loss: 0.0245 - acc: 0.9925 - val_loss: 1.8987e-04 - val_acc: 0.9760\n",
            "Epoch 62/100\n",
            "100/100 [==============================] - 28s 276ms/step - loss: 0.0304 - acc: 0.9895 - val_loss: 0.1409 - val_acc: 0.9730\n",
            "Epoch 63/100\n",
            "100/100 [==============================] - 28s 276ms/step - loss: 0.0196 - acc: 0.9930 - val_loss: 0.0891 - val_acc: 0.9740\n",
            "Epoch 64/100\n",
            "100/100 [==============================] - 28s 276ms/step - loss: 0.0437 - acc: 0.9880 - val_loss: 8.0960e-05 - val_acc: 0.9750\n",
            "Epoch 65/100\n",
            "100/100 [==============================] - 28s 276ms/step - loss: 0.0253 - acc: 0.9910 - val_loss: 0.0105 - val_acc: 0.9730\n",
            "Epoch 66/100\n",
            "100/100 [==============================] - 28s 276ms/step - loss: 0.0248 - acc: 0.9925 - val_loss: 0.4267 - val_acc: 0.9780\n",
            "Epoch 67/100\n",
            "100/100 [==============================] - 28s 276ms/step - loss: 0.0190 - acc: 0.9925 - val_loss: 0.0028 - val_acc: 0.9730\n",
            "Epoch 68/100\n",
            "100/100 [==============================] - 28s 277ms/step - loss: 0.0279 - acc: 0.9905 - val_loss: 7.6189e-04 - val_acc: 0.9710\n",
            "Epoch 69/100\n",
            "100/100 [==============================] - 28s 276ms/step - loss: 0.0170 - acc: 0.9945 - val_loss: 5.5787e-05 - val_acc: 0.9730\n",
            "Epoch 70/100\n",
            "100/100 [==============================] - 28s 276ms/step - loss: 0.0135 - acc: 0.9965 - val_loss: 0.0958 - val_acc: 0.9750\n",
            "Epoch 71/100\n",
            "100/100 [==============================] - 28s 276ms/step - loss: 0.0284 - acc: 0.9880 - val_loss: 0.8704 - val_acc: 0.9740\n",
            "Epoch 72/100\n",
            "100/100 [==============================] - 28s 276ms/step - loss: 0.0217 - acc: 0.9930 - val_loss: 0.1479 - val_acc: 0.9720\n",
            "Epoch 73/100\n",
            "100/100 [==============================] - 28s 276ms/step - loss: 0.0149 - acc: 0.9945 - val_loss: 2.1611e-05 - val_acc: 0.9740\n",
            "Epoch 74/100\n",
            "100/100 [==============================] - 28s 276ms/step - loss: 0.0144 - acc: 0.9945 - val_loss: 0.1016 - val_acc: 0.9730\n",
            "Epoch 75/100\n",
            "100/100 [==============================] - 28s 276ms/step - loss: 0.0277 - acc: 0.9935 - val_loss: 0.2196 - val_acc: 0.9710\n",
            "Epoch 76/100\n",
            "100/100 [==============================] - 28s 276ms/step - loss: 0.0304 - acc: 0.9900 - val_loss: 5.5272e-04 - val_acc: 0.9760\n",
            "Epoch 77/100\n",
            "100/100 [==============================] - 28s 276ms/step - loss: 0.0172 - acc: 0.9940 - val_loss: 0.2744 - val_acc: 0.9750\n",
            "Epoch 78/100\n",
            "100/100 [==============================] - 28s 276ms/step - loss: 0.0226 - acc: 0.9945 - val_loss: 0.1640 - val_acc: 0.9750\n",
            "Epoch 79/100\n",
            "100/100 [==============================] - 28s 276ms/step - loss: 0.0244 - acc: 0.9940 - val_loss: 0.0143 - val_acc: 0.9740\n",
            "Epoch 80/100\n",
            "100/100 [==============================] - 28s 276ms/step - loss: 0.0260 - acc: 0.9905 - val_loss: 5.9846e-05 - val_acc: 0.9720\n",
            "Epoch 81/100\n",
            "100/100 [==============================] - 28s 276ms/step - loss: 0.0187 - acc: 0.9940 - val_loss: 0.1091 - val_acc: 0.9770\n",
            "Epoch 82/100\n",
            "100/100 [==============================] - 28s 275ms/step - loss: 0.0246 - acc: 0.9930 - val_loss: 0.7995 - val_acc: 0.9710\n",
            "Epoch 83/100\n",
            "100/100 [==============================] - 28s 275ms/step - loss: 0.0220 - acc: 0.9940 - val_loss: 3.3328e-04 - val_acc: 0.9750\n",
            "Epoch 84/100\n",
            "100/100 [==============================] - 28s 277ms/step - loss: 0.0142 - acc: 0.9945 - val_loss: 0.0144 - val_acc: 0.9770\n",
            "Epoch 85/100\n",
            "100/100 [==============================] - 28s 276ms/step - loss: 0.0148 - acc: 0.9945 - val_loss: 0.2922 - val_acc: 0.9740\n",
            "Epoch 86/100\n",
            "100/100 [==============================] - 28s 277ms/step - loss: 0.0164 - acc: 0.9970 - val_loss: 5.4906e-04 - val_acc: 0.9760\n",
            "Epoch 87/100\n",
            "100/100 [==============================] - 28s 277ms/step - loss: 0.0279 - acc: 0.9930 - val_loss: 0.2604 - val_acc: 0.9740\n",
            "Epoch 88/100\n",
            "100/100 [==============================] - 28s 277ms/step - loss: 0.0193 - acc: 0.9935 - val_loss: 1.9509e-04 - val_acc: 0.9760\n",
            "Epoch 89/100\n",
            "100/100 [==============================] - 28s 276ms/step - loss: 0.0116 - acc: 0.9945 - val_loss: 0.0574 - val_acc: 0.9740\n",
            "Epoch 90/100\n",
            "100/100 [==============================] - 28s 277ms/step - loss: 0.0149 - acc: 0.9960 - val_loss: 2.2814e-05 - val_acc: 0.9720\n",
            "Epoch 91/100\n",
            "100/100 [==============================] - 28s 277ms/step - loss: 0.0140 - acc: 0.9950 - val_loss: 0.2195 - val_acc: 0.9740\n",
            "Epoch 92/100\n",
            "100/100 [==============================] - 28s 277ms/step - loss: 0.0080 - acc: 0.9970 - val_loss: 5.4319e-05 - val_acc: 0.9760\n",
            "Epoch 93/100\n",
            "100/100 [==============================] - 28s 277ms/step - loss: 0.0199 - acc: 0.9955 - val_loss: 0.0028 - val_acc: 0.9750\n",
            "Epoch 94/100\n",
            "100/100 [==============================] - 28s 276ms/step - loss: 0.0087 - acc: 0.9970 - val_loss: 0.0023 - val_acc: 0.9730\n",
            "Epoch 95/100\n",
            "100/100 [==============================] - 28s 277ms/step - loss: 0.0140 - acc: 0.9955 - val_loss: 0.0200 - val_acc: 0.9740\n",
            "Epoch 96/100\n",
            "100/100 [==============================] - 28s 276ms/step - loss: 0.0072 - acc: 0.9980 - val_loss: 0.0210 - val_acc: 0.9750\n",
            "Epoch 97/100\n",
            "100/100 [==============================] - 28s 276ms/step - loss: 0.0172 - acc: 0.9955 - val_loss: 0.5891 - val_acc: 0.9760\n",
            "Epoch 98/100\n",
            "100/100 [==============================] - 28s 275ms/step - loss: 0.0128 - acc: 0.9955 - val_loss: 0.0897 - val_acc: 0.9760\n",
            "Epoch 99/100\n",
            "100/100 [==============================] - 28s 275ms/step - loss: 0.0193 - acc: 0.9945 - val_loss: 0.1942 - val_acc: 0.9780\n",
            "Epoch 100/100\n",
            "100/100 [==============================] - 28s 276ms/step - loss: 0.0061 - acc: 0.9980 - val_loss: 0.5675 - val_acc: 0.9760\n"
          ],
          "name": "stdout"
        }
      ]
    },
    {
      "cell_type": "markdown",
      "metadata": {
        "id": "eVBQgh5M-Rtz",
        "colab_type": "text"
      },
      "source": [
        "## Display learning curves during fine-tuning"
      ]
    },
    {
      "cell_type": "code",
      "metadata": {
        "id": "mbkIw7Ie-NP4",
        "colab_type": "code",
        "outputId": "dd07ba7c-424e-48ee-b9da-c75734fb79ea",
        "colab": {
          "base_uri": "https://localhost:8080/",
          "height": 545
        }
      },
      "source": [
        "%matplotlib inline\n",
        "\n",
        "import matplotlib.pyplot as plt\n",
        "\n",
        "acc = history.history['acc']\n",
        "val_acc = history.history['val_acc']\n",
        "\n",
        "loss = history.history['loss']\n",
        "val_loss = history.history['val_loss']\n",
        "\n",
        "epochs = range(1, len(acc) + 1)\n",
        "\n",
        "# training and validation accuracy\n",
        "\n",
        "plt.plot(epochs, acc, 'bo', label='training acc')\n",
        "plt.plot(epochs, val_acc, 'b', label='validation acc')\n",
        "plt.title('training and validation accuracy')\n",
        "plt.legend()\n",
        "\n",
        "plt.figure()\n",
        "\n",
        "# training and validation loss\n",
        "\n",
        "plt.plot(epochs, loss, 'bo', label='training loss')\n",
        "plt.plot(epochs, val_loss, 'b', label='validation loss')\n",
        "plt.title('training and validation loss')\n",
        "plt.legend()\n",
        "\n",
        "plt.show()"
      ],
      "execution_count": 18,
      "outputs": [
        {
          "output_type": "display_data",
          "data": {
            "image/png": "[encoded data removed]",
            "text/plain": [
              "<Figure size 432x288 with 1 Axes>"
            ]
          },
          "metadata": {
            "tags": [],
            "needs_background": "light"
          }
        },
        {
          "output_type": "display_data",
          "data": {
            "image/png": "[encoded data removed]",
            "text/plain": [
              "<Figure size 432x288 with 1 Axes>"
            ]
          },
          "metadata": {
            "tags": [],
            "needs_background": "light"
          }
        }
      ]
    },
    {
      "cell_type": "markdown",
      "metadata": {
        "id": "he3Nw6TOJwjx",
        "colab_type": "text"
      },
      "source": [
        "## Print out validation loss and accuracy"
      ]
    },
    {
      "cell_type": "code",
      "metadata": {
        "id": "SVQtrk7uJdhl",
        "colab_type": "code",
        "colab": {}
      },
      "source": [
        "val_loss, val_acc = model.evaluate_generator(validation_generator, steps=50)"
      ],
      "execution_count": 0,
      "outputs": []
    },
    {
      "cell_type": "code",
      "metadata": {
        "id": "HpdddLi1SUMe",
        "colab_type": "code",
        "outputId": "088583db-8864-4bfa-9759-e4a2d8ddb4e5",
        "colab": {
          "base_uri": "https://localhost:8080/",
          "height": 50
        }
      },
      "source": [
        "print(\"Validation loss:\", val_loss)\n",
        "print(\"Validation accuracy:\", val_acc)"
      ],
      "execution_count": 21,
      "outputs": [
        {
          "output_type": "stream",
          "text": [
            "Validation loss: 0.5675493478775024\n",
            "Validation accuracy: 0.9760000109672546\n"
          ],
          "name": "stdout"
        }
      ]
    },
    {
      "cell_type": "markdown",
      "metadata": {
        "id": "7Ww756WToby8",
        "colab_type": "text"
      },
      "source": [
        "## Save the model"
      ]
    },
    {
      "cell_type": "code",
      "metadata": {
        "id": "0lTUpUdwobKW",
        "colab_type": "code",
        "colab": {}
      },
      "source": [
        "model_fname = 'cats_and_dogs_small_4.h5' \n",
        "model.save(model_fname)"
      ],
      "execution_count": 0,
      "outputs": []
    },
    {
      "cell_type": "code",
      "metadata": {
        "id": "YhEoI8ZTok-X",
        "colab_type": "code",
        "colab": {}
      },
      "source": [
        "from google.colab import files\n",
        "\n",
        "with open(model_fname, 'r') as f:\n",
        "  files.download(model_fname)"
      ],
      "execution_count": 0,
      "outputs": []
    },
    {
      "cell_type": "code",
      "metadata": {
        "id": "VNEL4CCcS0Oj",
        "colab_type": "code",
        "colab": {}
      },
      "source": [
        ""
      ],
      "execution_count": 0,
      "outputs": []
    }
  ]
}
