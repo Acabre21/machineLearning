{
  "nbformat": 4,
  "nbformat_minor": 0,
  "metadata": {
    "colab": {
      "name": "Untitled0.ipynb",
      "provenance": [],
      "collapsed_sections": [],
      "authorship_tag": "ABX9TyMKdDG3Xhxet3FzEz3YQT/D",
      "include_colab_link": true
    },
    "kernelspec": {
      "name": "python3",
      "display_name": "Python 3"
    }
  },
  "cells": [
    {
      "cell_type": "markdown",
      "metadata": {
        "id": "view-in-github",
        "colab_type": "text"
      },
      "source": [
        "<a href=\"https://colab.research.google.com/github/Acabre21/machineLearning/blob/master/HW_1/hw1.ipynb\" target=\"_parent\"><img src=\"https://colab.research.google.com/assets/colab-badge.svg\" alt=\"Open In Colab\"/></a>"
      ]
    },
    {
      "cell_type": "markdown",
      "metadata": {
        "id": "ZUqWVa03xWSB",
        "colab_type": "text"
      },
      "source": [
        "Function takes in a list of matrices and outputs their product adjacent matrices must line up their columns and rows to function as depicted below \n",
        "# ie: matrix A has 2 cols and matrix B has 2 rows\n",
        "\n",
        "$$\\begin{bmatrix}\n",
        "    a  &  b      \\\\\n",
        "    c  &  d\n",
        "\\end{bmatrix}\n",
        "\\times\n",
        "\\begin{bmatrix}\n",
        "    e  &  f  &  g      \\\\\n",
        "    h  &  i  &  j\n",
        "\\end{bmatrix}\n",
        "=\n",
        "\\begin{bmatrix}\n",
        "    (a \\times e) + (b \\times h)  &  (a \\times f) + (b \\times i)  &  (a \\times g) + (b \\times j)      \\\\\n",
        "    (c \\times e) + (d \\times h)  &  (c \\times f) + (d \\times i)  &  (c \\times g) + (d \\times j)      \\\\\n",
        "\\end{bmatrix}$$"
      ]
    },
    {
      "cell_type": "code",
      "metadata": {
        "id": "V16OHmpglOzi",
        "colab_type": "code",
        "colab": {}
      },
      "source": [
        "import numpy as np\n",
        "\n",
        "def multiplyMatrices(matrices):\n",
        "    z = 0\n",
        "    if (len(matrices) < 2):\n",
        "        print(matrices[0])\n",
        "        return\n",
        "    for x in range(len(matrices) - 1):\n",
        "        z = matrices[x]@matrices[x+1]\n",
        "    print(z)\n"
      ],
      "execution_count": 0,
      "outputs": []
    }
  ]
}