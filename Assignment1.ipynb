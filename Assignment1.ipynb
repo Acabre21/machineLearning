{
  "nbformat": 4,
  "nbformat_minor": 0,
  "metadata": {
    "colab": {
      "name": "Assignment1.ipynb",
      "provenance": [],
      "authorship_tag": "ABX9TyOS2YfI08nTiAtasJCVBN+I",
      "include_colab_link": true
    },
    "kernelspec": {
      "name": "python3",
      "display_name": "Python 3"
    }
  },
  "cells": [
    {
      "cell_type": "markdown",
      "metadata": {
        "id": "view-in-github",
        "colab_type": "text"
      },
      "source": [
        "<a href=\"https://colab.research.google.com/github/Acabre21/machineLearning/blob/master/Assignment1.ipynb\" target=\"_parent\"><img src=\"https://colab.research.google.com/assets/colab-badge.svg\" alt=\"Open In Colab\"/></a>"
      ]
    },
    {
      "cell_type": "markdown",
      "metadata": {
        "id": "n5GB3A_VLgUG",
        "colab_type": "text"
      },
      "source": [
        "Function takes in a list of matrices and outputs their product adjacent matrices must line up their columns and rows to function as depicted below \n",
        "# ie: matrix A has 2 cols and matrix B has 2 rows\n",
        "\n",
        "$$\\begin{bmatrix}\n",
        "    a  &  b      \\\\\n",
        "    c  &  d\n",
        "\\end{bmatrix}\n",
        "\\times\n",
        "\\begin{bmatrix}\n",
        "    e  &  f  &  g      \\\\\n",
        "    h  &  i  &  j\n",
        "\\end{bmatrix}\n",
        "=\n",
        "\\begin{bmatrix}\n",
        "    (a \\times e) + (b \\times h)  &  (a \\times f) + (b \\times i)  &  (a \\times g) + (b \\times j)      \\\\\n",
        "    (c \\times e) + (d \\times h)  &  (c \\times f) + (d \\times i)  &  (c \\times g) + (d \\times j)      \\\\\n",
        "\\end{bmatrix}$$"
      ]
    },
    {
      "cell_type": "code",
      "metadata": {
        "id": "En9IDNtQLXST",
        "colab_type": "code",
        "colab": {}
      },
      "source": [
        "import numpy as np \n",
        "def multiplyMatrices(matrices):\n",
        "    if (len(matrices) < 1):\n",
        "        return 0\n",
        "    if (len(matrices) < 2):\n",
        "        return matrices[0]\n",
        "    z = matrices[0]\n",
        "    for x in range(len(matrices) - 1):\n",
        "        col1 = z.shape[1]\n",
        "        row2 = matrices[x+1].shape[0]\n",
        "\n",
        "        if col1 != row2:\n",
        "          print(\"Mismatching matrices array \" + str(x) + \" and array \" + str(x+1))\n",
        "          break \n",
        "        z = np.dot(z,matrices[x+1])\n",
        "\n",
        "        \n",
        "    return z\n"
      ],
      "execution_count": 0,
      "outputs": []
    }
  ]
}