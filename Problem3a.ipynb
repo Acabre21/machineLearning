{
  "nbformat": 4,
  "nbformat_minor": 0,
  "metadata": {
    "colab": {
      "name": "pretrained_convnet_finetuning.ipynb",
      "provenance": [],
      "include_colab_link": true
    },
    "kernelspec": {
      "name": "python3",
      "display_name": "Python 3"
    },
    "accelerator": "GPU"
  },
  "cells": [
    {
      "cell_type": "markdown",
      "metadata": {
        "id": "view-in-github",
        "colab_type": "text"
      },
      "source": [
        "<a href=\"https://colab.research.google.com/github/Acabre21/machineLearning/blob/master/Problem3a.ipynb\" target=\"_parent\"><img src=\"https://colab.research.google.com/assets/colab-badge.svg\" alt=\"Open In Colab\"/></a>"
      ]
    },
    {
      "cell_type": "markdown",
      "metadata": {
        "id": "KSrgMJ5vKFzQ",
        "colab_type": "text"
      },
      "source": [
        "# Fine-tuning Xception\n",
        "\n",
        "I have replaced the VGG16 CNN with the Xeption CNN. I have also modified the classifier by adding another dense layer with 256 neurons and a softmax activation function. This CNN now uses three dense layers. In addition to that, I have also unfrozen the conv2d_6 layer. \n",
        "\n",
        "Validation loss: 0.5727039575576782\n",
        "\n",
        "Validation accuracy: 0.972000002861023"
      ]
    },
    {
      "cell_type": "markdown",
      "metadata": {
        "id": "nsBq__dVo2pj",
        "colab_type": "text"
      },
      "source": [
        "## Feature extraction"
      ]
    },
    {
      "cell_type": "markdown",
      "metadata": {
        "id": "0g6ETAM9o54M",
        "colab_type": "text"
      },
      "source": [
        "Feature extraction consists of using the representations learned by a previous network to extract interesting features from new samples. These features are then run through a new classifier, which is trained from scratch.\n",
        "\n",
        "We will use here the convolutional base of the Xception model to extract the features. We will feed these features to a densely connected classifier with dropout. We will fine-tune some layers."
      ]
    },
    {
      "cell_type": "code",
      "metadata": {
        "id": "JWjprHEXJ5Qi",
        "colab_type": "code",
        "outputId": "7cd22c55-6740-40fa-ac34-ddcfd1951003",
        "colab": {
          "base_uri": "https://localhost:8080/",
          "height": 201
        }
      },
      "source": [
        "!wget --no-check-certificate \\\n",
        "    https://storage.googleapis.com/mledu-datasets/cats_and_dogs_filtered.zip \\\n",
        "    -O /tmp/cats_and_dogs_filtered.zip"
      ],
      "execution_count": 3,
      "outputs": [
        {
          "output_type": "stream",
          "text": [
            "--2020-04-21 22:43:54--  https://storage.googleapis.com/mledu-datasets/cats_and_dogs_filtered.zip\n",
            "Resolving storage.googleapis.com (storage.googleapis.com)... 172.217.194.128, 2404:6800:4003:c03::80\n",
            "Connecting to storage.googleapis.com (storage.googleapis.com)|172.217.194.128|:443... connected.\n",
            "HTTP request sent, awaiting response... 200 OK\n",
            "Length: 68606236 (65M) [application/zip]\n",
            "Saving to: ‘/tmp/cats_and_dogs_filtered.zip’\n",
            "\n",
            "/tmp/cats_and_dogs_ 100%[===================>]  65.43M  57.8MB/s    in 1.1s    \n",
            "\n",
            "2020-04-21 22:43:55 (57.8 MB/s) - ‘/tmp/cats_and_dogs_filtered.zip’ saved [68606236/68606236]\n",
            "\n"
          ],
          "name": "stdout"
        }
      ]
    },
    {
      "cell_type": "code",
      "metadata": {
        "id": "WvoHtdA-K6Rw",
        "colab_type": "code",
        "colab": {}
      },
      "source": [
        "import os\n",
        "import zipfile\n",
        "\n",
        "local_zip = '/tmp/cats_and_dogs_filtered.zip'\n",
        "zip_ref = zipfile.ZipFile(local_zip, 'r')\n",
        "zip_ref.extractall('/tmp')\n",
        "zip_ref.close()"
      ],
      "execution_count": 0,
      "outputs": []
    },
    {
      "cell_type": "markdown",
      "metadata": {
        "id": "shZiOBnJMyy_",
        "colab_type": "text"
      },
      "source": [
        "Note that the data provided by Google does not have a test set."
      ]
    },
    {
      "cell_type": "code",
      "metadata": {
        "id": "dL8ikM89LlsH",
        "colab_type": "code",
        "colab": {}
      },
      "source": [
        "base_dir = '/tmp/cats_and_dogs_filtered'\n",
        "train_dir = os.path.join(base_dir, 'train')\n",
        "validation_dir = os.path.join(base_dir, 'validation')\n",
        "\n",
        "# Directory with our training cat pictures\n",
        "train_cats_dir = os.path.join(train_dir, 'cats')\n",
        "\n",
        "# Directory with our training dog pictures\n",
        "train_dogs_dir = os.path.join(train_dir, 'dogs')\n",
        "\n",
        "# Directory with our validation cat pictures\n",
        "validation_cats_dir = os.path.join(validation_dir, 'cats')\n",
        "\n",
        "# Directory with our validation dog pictures\n",
        "validation_dogs_dir = os.path.join(validation_dir, 'dogs')"
      ],
      "execution_count": 0,
      "outputs": []
    },
    {
      "cell_type": "markdown",
      "metadata": {
        "id": "inyP8bcdXnn-",
        "colab_type": "text"
      },
      "source": [
        "## Build network with Xception convolution base and custom densely connected layers"
      ]
    },
    {
      "cell_type": "markdown",
      "metadata": {
        "id": "kQ48W5T9rHWu",
        "colab_type": "text"
      },
      "source": [
        "### Load the convolutional base"
      ]
    },
    {
      "cell_type": "code",
      "metadata": {
        "id": "Y0FgtANCXm_H",
        "colab_type": "code",
        "colab": {}
      },
      "source": [
        "from keras.applications import Xception\n",
        "\n",
        "conv_base = Xception(\n",
        "    weights='imagenet', \n",
        "    include_top=False, \n",
        "    input_shape=(150, 150, 3))"
      ],
      "execution_count": 0,
      "outputs": []
    },
    {
      "cell_type": "markdown",
      "metadata": {
        "id": "D6OBHOO9q1ou",
        "colab_type": "text"
      },
      "source": [
        "### Freeze the convolutional base"
      ]
    },
    {
      "cell_type": "code",
      "metadata": {
        "id": "UleRo4Dpq6Ld",
        "colab_type": "code",
        "colab": {}
      },
      "source": [
        "conv_base.trainable = False"
      ],
      "execution_count": 0,
      "outputs": []
    },
    {
      "cell_type": "markdown",
      "metadata": {
        "id": "Qfx6PqhPrb7Q",
        "colab_type": "text"
      },
      "source": [
        "### Concatenate the convolutional base and densely connected layers"
      ]
    },
    {
      "cell_type": "code",
      "metadata": {
        "id": "qUpmocDAO3xm",
        "colab_type": "code",
        "colab": {}
      },
      "source": [
        "from keras import layers\n",
        "from keras import models\n",
        "from keras import optimizers\n",
        "\n",
        "model = models.Sequential()\n",
        "model.add(conv_base)\n",
        "model.add(layers.Flatten())\n",
        "model.add(layers.Dense(256, activation='relu'))\n",
        "# new Dense layer\n",
        "model.add(layers.Dense(256, activation='softmax'))\n",
        "model.add(layers.Dense(1, activation='sigmoid'))"
      ],
      "execution_count": 0,
      "outputs": []
    },
    {
      "cell_type": "code",
      "metadata": {
        "id": "Fh6gZSeAjF7c",
        "colab_type": "code",
        "outputId": "6ede95bf-69f4-4dcc-f62e-2f78f783ebe0",
        "colab": {
          "base_uri": "https://localhost:8080/",
          "height": 318
        }
      },
      "source": [
        "model.summary()"
      ],
      "execution_count": 12,
      "outputs": [
        {
          "output_type": "stream",
          "text": [
            "Model: \"sequential_2\"\n",
            "_________________________________________________________________\n",
            "Layer (type)                 Output Shape              Param #   \n",
            "=================================================================\n",
            "xception (Model)             (None, 5, 5, 2048)        20861480  \n",
            "_________________________________________________________________\n",
            "flatten_1 (Flatten)          (None, 51200)             0         \n",
            "_________________________________________________________________\n",
            "dense_1 (Dense)              (None, 256)               13107456  \n",
            "_________________________________________________________________\n",
            "dense_2 (Dense)              (None, 256)               65792     \n",
            "_________________________________________________________________\n",
            "dense_3 (Dense)              (None, 1)                 257       \n",
            "=================================================================\n",
            "Total params: 34,034,985\n",
            "Trainable params: 13,173,505\n",
            "Non-trainable params: 20,861,480\n",
            "_________________________________________________________________\n"
          ],
          "name": "stdout"
        }
      ]
    },
    {
      "cell_type": "markdown",
      "metadata": {
        "id": "eZjBiddhi5Qj",
        "colab_type": "text"
      },
      "source": [
        "## Train the model end to end with frozen convolutional base"
      ]
    },
    {
      "cell_type": "code",
      "metadata": {
        "id": "tfAQlC2Oi41L",
        "colab_type": "code",
        "outputId": "cf25e428-edeb-45e5-df9d-97929b098bf2",
        "colab": {
          "base_uri": "https://localhost:8080/",
          "height": 1000
        }
      },
      "source": [
        "from keras.preprocessing.image import ImageDataGenerator\n",
        "from keras import optimizers\n",
        "\n",
        "# data augmentation\n",
        "\n",
        "train_datagen = ImageDataGenerator(\n",
        "    rescale=1./255, \n",
        "    rotation_range=40,\n",
        "    width_shift_range=0.2,\n",
        "    height_shift_range=0.2,\n",
        "    shear_range=0.2,\n",
        "    zoom_range=0.2,\n",
        "    horizontal_flip=True,\n",
        "    fill_mode='nearest'\n",
        ")\n",
        "\n",
        "train_generator = train_datagen.flow_from_directory(\n",
        "    train_dir,\n",
        "    target_size=(150, 150),\n",
        "    batch_size=20,\n",
        "    class_mode='binary')\n",
        "\n",
        "validation_datagen = ImageDataGenerator(rescale=1./255)\n",
        "\n",
        "validation_generator = validation_datagen.flow_from_directory(\n",
        "    validation_dir,\n",
        "    target_size=(150, 150),\n",
        "    batch_size=20,\n",
        "    class_mode='binary')\n",
        "\n",
        "# compile model\n",
        "\n",
        "model.compile(\n",
        "    loss='binary_crossentropy', \n",
        "    optimizer=optimizers.RMSprop(lr=2e-5), \n",
        "    metrics=['acc'])\n",
        "\n",
        "# train\n",
        "\n",
        "history = model.fit_generator(\n",
        "    train_generator,\n",
        "    steps_per_epoch=100,\n",
        "    epochs=30,\n",
        "    validation_data=validation_generator,\n",
        "    validation_steps=50\n",
        ")"
      ],
      "execution_count": 13,
      "outputs": [
        {
          "output_type": "stream",
          "text": [
            "Found 2000 images belonging to 2 classes.\n",
            "Found 1000 images belonging to 2 classes.\n",
            "Epoch 1/30\n",
            "100/100 [==============================] - 24s 239ms/step - loss: 0.6611 - acc: 0.7860 - val_loss: 0.6395 - val_acc: 0.9290\n",
            "Epoch 2/30\n",
            "100/100 [==============================] - 20s 203ms/step - loss: 0.6526 - acc: 0.8340 - val_loss: 0.6254 - val_acc: 0.9630\n",
            "Epoch 3/30\n",
            "100/100 [==============================] - 21s 206ms/step - loss: 0.6488 - acc: 0.8445 - val_loss: 0.6309 - val_acc: 0.9650\n",
            "Epoch 4/30\n",
            "100/100 [==============================] - 21s 208ms/step - loss: 0.6489 - acc: 0.8385 - val_loss: 0.6290 - val_acc: 0.9660\n",
            "Epoch 5/30\n",
            "100/100 [==============================] - 20s 203ms/step - loss: 0.6455 - acc: 0.8560 - val_loss: 0.6299 - val_acc: 0.9630\n",
            "Epoch 6/30\n",
            "100/100 [==============================] - 20s 199ms/step - loss: 0.6450 - acc: 0.8600 - val_loss: 0.6283 - val_acc: 0.9690\n",
            "Epoch 7/30\n",
            "100/100 [==============================] - 20s 200ms/step - loss: 0.6436 - acc: 0.8670 - val_loss: 0.6241 - val_acc: 0.9610\n",
            "Epoch 8/30\n",
            "100/100 [==============================] - 20s 199ms/step - loss: 0.6424 - acc: 0.8620 - val_loss: 0.6274 - val_acc: 0.9710\n",
            "Epoch 9/30\n",
            "100/100 [==============================] - 20s 199ms/step - loss: 0.6426 - acc: 0.8595 - val_loss: 0.6182 - val_acc: 0.9560\n",
            "Epoch 10/30\n",
            "100/100 [==============================] - 20s 199ms/step - loss: 0.6416 - acc: 0.8580 - val_loss: 0.6250 - val_acc: 0.9650\n",
            "Epoch 11/30\n",
            "100/100 [==============================] - 20s 200ms/step - loss: 0.6404 - acc: 0.8545 - val_loss: 0.6165 - val_acc: 0.9660\n",
            "Epoch 12/30\n",
            "100/100 [==============================] - 20s 198ms/step - loss: 0.6389 - acc: 0.8695 - val_loss: 0.6164 - val_acc: 0.9660\n",
            "Epoch 13/30\n",
            "100/100 [==============================] - 20s 200ms/step - loss: 0.6376 - acc: 0.8690 - val_loss: 0.6222 - val_acc: 0.9470\n",
            "Epoch 14/30\n",
            "100/100 [==============================] - 20s 200ms/step - loss: 0.6386 - acc: 0.8615 - val_loss: 0.6221 - val_acc: 0.9730\n",
            "Epoch 15/30\n",
            "100/100 [==============================] - 20s 199ms/step - loss: 0.6372 - acc: 0.8650 - val_loss: 0.6151 - val_acc: 0.9700\n",
            "Epoch 16/30\n",
            "100/100 [==============================] - 20s 199ms/step - loss: 0.6368 - acc: 0.8640 - val_loss: 0.6209 - val_acc: 0.9700\n",
            "Epoch 17/30\n",
            "100/100 [==============================] - 20s 199ms/step - loss: 0.6343 - acc: 0.8785 - val_loss: 0.6199 - val_acc: 0.9690\n",
            "Epoch 18/30\n",
            "100/100 [==============================] - 20s 197ms/step - loss: 0.6355 - acc: 0.8665 - val_loss: 0.6144 - val_acc: 0.9670\n",
            "Epoch 19/30\n",
            "100/100 [==============================] - 20s 202ms/step - loss: 0.6333 - acc: 0.8720 - val_loss: 0.6278 - val_acc: 0.9680\n",
            "Epoch 20/30\n",
            "100/100 [==============================] - 20s 198ms/step - loss: 0.6328 - acc: 0.8720 - val_loss: 0.6090 - val_acc: 0.9710\n",
            "Epoch 21/30\n",
            "100/100 [==============================] - 20s 196ms/step - loss: 0.6313 - acc: 0.8775 - val_loss: 0.6166 - val_acc: 0.9670\n",
            "Epoch 22/30\n",
            "100/100 [==============================] - 20s 197ms/step - loss: 0.6335 - acc: 0.8620 - val_loss: 0.6073 - val_acc: 0.9680\n",
            "Epoch 23/30\n",
            "100/100 [==============================] - 20s 198ms/step - loss: 0.6319 - acc: 0.8660 - val_loss: 0.6064 - val_acc: 0.9670\n",
            "Epoch 24/30\n",
            "100/100 [==============================] - 20s 199ms/step - loss: 0.6288 - acc: 0.8825 - val_loss: 0.6058 - val_acc: 0.9700\n",
            "Epoch 25/30\n",
            "100/100 [==============================] - 20s 198ms/step - loss: 0.6313 - acc: 0.8670 - val_loss: 0.6139 - val_acc: 0.9730\n",
            "Epoch 26/30\n",
            "100/100 [==============================] - 20s 199ms/step - loss: 0.6286 - acc: 0.8710 - val_loss: 0.6039 - val_acc: 0.9660\n",
            "Epoch 27/30\n",
            "100/100 [==============================] - 20s 200ms/step - loss: 0.6274 - acc: 0.8750 - val_loss: 0.6032 - val_acc: 0.9690\n",
            "Epoch 28/30\n",
            "100/100 [==============================] - 20s 200ms/step - loss: 0.6271 - acc: 0.8785 - val_loss: 0.6119 - val_acc: 0.9640\n",
            "Epoch 29/30\n",
            "100/100 [==============================] - 20s 200ms/step - loss: 0.6263 - acc: 0.8725 - val_loss: 0.6013 - val_acc: 0.9660\n",
            "Epoch 30/30\n",
            "100/100 [==============================] - 20s 199ms/step - loss: 0.6255 - acc: 0.8800 - val_loss: 0.6007 - val_acc: 0.9650\n"
          ],
          "name": "stdout"
        }
      ]
    },
    {
      "cell_type": "markdown",
      "metadata": {
        "id": "xqRc_vHKc92U",
        "colab_type": "text"
      },
      "source": [
        "## Display curves of loss and accuracy during training"
      ]
    },
    {
      "cell_type": "code",
      "metadata": {
        "id": "ybWwdzz9bwuQ",
        "colab_type": "code",
        "outputId": "a8dce789-7ee1-4d05-fd7f-2043bd50759b",
        "colab": {
          "base_uri": "https://localhost:8080/",
          "height": 545
        }
      },
      "source": [
        "%matplotlib inline\n",
        "\n",
        "import matplotlib.pyplot as plt\n",
        "\n",
        "acc = history.history['acc']\n",
        "val_acc = history.history['val_acc']\n",
        "\n",
        "loss = history.history['loss']\n",
        "val_loss = history.history['val_loss']\n",
        "\n",
        "epochs = range(1, len(acc) + 1)\n",
        "\n",
        "# training and validation accuracy\n",
        "\n",
        "plt.plot(epochs, acc, 'bo', label='training acc')\n",
        "plt.plot(epochs, val_acc, 'b', label='validation acc')\n",
        "plt.title('training and validation accuracy')\n",
        "plt.legend()\n",
        "\n",
        "plt.figure()\n",
        "\n",
        "# training and validation loss\n",
        "\n",
        "plt.plot(epochs, loss, 'bo', label='training loss')\n",
        "plt.plot(epochs, val_loss, 'b', label='validation loss')\n",
        "plt.title('training and validation loss')\n",
        "plt.legend()\n",
        "\n",
        "plt.show()"
      ],
      "execution_count": 14,
      "outputs": [
        {
          "output_type": "display_data",
          "data": {
            "image/png": "[encoded data removed]",
            "text/plain": [
              "<Figure size 432x288 with 1 Axes>"
            ]
          },
          "metadata": {
            "tags": [],
            "needs_background": "light"
          }
        },
        {
          "output_type": "display_data",
          "data": {
            "image/png": "[encoded data removed]",
            "text/plain": [
              "<Figure size 432x288 with 1 Axes>"
            ]
          },
          "metadata": {
            "tags": [],
            "needs_background": "light"
          }
        }
      ]
    },
    {
      "cell_type": "markdown",
      "metadata": {
        "id": "lOWsxpey8lN0",
        "colab_type": "text"
      },
      "source": [
        "## Fine-tuning"
      ]
    },
    {
      "cell_type": "code",
      "metadata": {
        "id": "PwkVMx8N8qMw",
        "colab_type": "code",
        "colab": {
          "base_uri": "https://localhost:8080/",
          "height": 33
        },
        "outputId": "546c279b-0e61-464a-c8f9-2598b32d0ebd"
      },
      "source": [
        "conv_base.trainable = True\n",
        "\n",
        "set_trainable = False\n",
        "\n",
        "# unfreezing a different layer\n",
        "for layer in conv_base.layers:\n",
        "  # if layer.name == 'block5_conv1':\n",
        "  if layer.name == 'conv2d_6':\n",
        "    set_trainable = True\n",
        "    # print('did it')\n",
        "  if set_trainable:\n",
        "    layer.trainable = True\n",
        "  else:\n",
        "    layer.trainable = False\n"
      ],
      "execution_count": 21,
      "outputs": [
        {
          "output_type": "stream",
          "text": [
            "did it\n"
          ],
          "name": "stdout"
        }
      ]
    },
    {
      "cell_type": "code",
      "metadata": {
        "id": "DyN-J7rs9cvo",
        "colab_type": "code",
        "outputId": "d44fecd1-915c-49f1-fd6a-68ca90ccca41",
        "colab": {
          "base_uri": "https://localhost:8080/",
          "height": 1000
        }
      },
      "source": [
        "# compile model\n",
        "\n",
        "model.compile(\n",
        "    loss='binary_crossentropy',\n",
        "    #\n",
        "    # choose a smaller learning rate\n",
        "    #\n",
        "    optimizer=optimizers.RMSprop(lr=1e-5), \n",
        "    metrics=['acc'])\n",
        "\n",
        "# train\n",
        "\n",
        "history = model.fit_generator(\n",
        "    train_generator,\n",
        "    steps_per_epoch=100,\n",
        "    epochs=100,\n",
        "    validation_data=validation_generator,\n",
        "    validation_steps=50)"
      ],
      "execution_count": 22,
      "outputs": [
        {
          "output_type": "stream",
          "text": [
            "Epoch 1/100\n",
            "100/100 [==============================] - 39s 386ms/step - loss: 0.6249 - acc: 0.8790 - val_loss: 0.6110 - val_acc: 0.9370\n",
            "Epoch 2/100\n",
            "100/100 [==============================] - 29s 285ms/step - loss: 0.6220 - acc: 0.8925 - val_loss: 0.6277 - val_acc: 0.9420\n",
            "Epoch 3/100\n",
            "100/100 [==============================] - 29s 285ms/step - loss: 0.6198 - acc: 0.8995 - val_loss: 0.6244 - val_acc: 0.9360\n",
            "Epoch 4/100\n",
            "100/100 [==============================] - 28s 285ms/step - loss: 0.6204 - acc: 0.8910 - val_loss: 0.6131 - val_acc: 0.9270\n",
            "Epoch 5/100\n",
            "100/100 [==============================] - 28s 284ms/step - loss: 0.6162 - acc: 0.9145 - val_loss: 0.6019 - val_acc: 0.9380\n",
            "Epoch 6/100\n",
            "100/100 [==============================] - 28s 284ms/step - loss: 0.6149 - acc: 0.9165 - val_loss: 0.5982 - val_acc: 0.9360\n",
            "Epoch 7/100\n",
            "100/100 [==============================] - 28s 284ms/step - loss: 0.6145 - acc: 0.9180 - val_loss: 0.5996 - val_acc: 0.9480\n",
            "Epoch 8/100\n",
            "100/100 [==============================] - 28s 284ms/step - loss: 0.6130 - acc: 0.9230 - val_loss: 0.6222 - val_acc: 0.9530\n",
            "Epoch 9/100\n",
            "100/100 [==============================] - 28s 284ms/step - loss: 0.6145 - acc: 0.9155 - val_loss: 0.5985 - val_acc: 0.9480\n",
            "Epoch 10/100\n",
            "100/100 [==============================] - 28s 284ms/step - loss: 0.6119 - acc: 0.9255 - val_loss: 0.6456 - val_acc: 0.9520\n",
            "Epoch 11/100\n",
            "100/100 [==============================] - 28s 284ms/step - loss: 0.6096 - acc: 0.9360 - val_loss: 0.6045 - val_acc: 0.9510\n",
            "Epoch 12/100\n",
            "100/100 [==============================] - 28s 284ms/step - loss: 0.6117 - acc: 0.9235 - val_loss: 0.6022 - val_acc: 0.9530\n",
            "Epoch 13/100\n",
            "100/100 [==============================] - 28s 285ms/step - loss: 0.6078 - acc: 0.9390 - val_loss: 0.6190 - val_acc: 0.9390\n",
            "Epoch 14/100\n",
            "100/100 [==============================] - 29s 286ms/step - loss: 0.6059 - acc: 0.9485 - val_loss: 0.6021 - val_acc: 0.9520\n",
            "Epoch 15/100\n",
            "100/100 [==============================] - 28s 284ms/step - loss: 0.6074 - acc: 0.9400 - val_loss: 0.6079 - val_acc: 0.9560\n",
            "Epoch 16/100\n",
            "100/100 [==============================] - 28s 284ms/step - loss: 0.6077 - acc: 0.9360 - val_loss: 0.5938 - val_acc: 0.9540\n",
            "Epoch 17/100\n",
            "100/100 [==============================] - 28s 284ms/step - loss: 0.6057 - acc: 0.9440 - val_loss: 0.6177 - val_acc: 0.9510\n",
            "Epoch 18/100\n",
            "100/100 [==============================] - 28s 284ms/step - loss: 0.6044 - acc: 0.9480 - val_loss: 0.5929 - val_acc: 0.9510\n",
            "Epoch 19/100\n",
            "100/100 [==============================] - 28s 284ms/step - loss: 0.6045 - acc: 0.9465 - val_loss: 0.5986 - val_acc: 0.9510\n",
            "Epoch 20/100\n",
            "100/100 [==============================] - 28s 284ms/step - loss: 0.6019 - acc: 0.9555 - val_loss: 0.5921 - val_acc: 0.9490\n",
            "Epoch 21/100\n",
            "100/100 [==============================] - 28s 284ms/step - loss: 0.6025 - acc: 0.9535 - val_loss: 0.6025 - val_acc: 0.9570\n",
            "Epoch 22/100\n",
            "100/100 [==============================] - 28s 284ms/step - loss: 0.6024 - acc: 0.9500 - val_loss: 0.5912 - val_acc: 0.9460\n",
            "Epoch 23/100\n",
            "100/100 [==============================] - 28s 285ms/step - loss: 0.6007 - acc: 0.9560 - val_loss: 0.5908 - val_acc: 0.9610\n",
            "Epoch 24/100\n",
            "100/100 [==============================] - 28s 284ms/step - loss: 0.6007 - acc: 0.9545 - val_loss: 0.5993 - val_acc: 0.9540\n",
            "Epoch 25/100\n",
            "100/100 [==============================] - 28s 284ms/step - loss: 0.5990 - acc: 0.9620 - val_loss: 0.5983 - val_acc: 0.9540\n",
            "Epoch 26/100\n",
            "100/100 [==============================] - 28s 284ms/step - loss: 0.5980 - acc: 0.9650 - val_loss: 0.5959 - val_acc: 0.9570\n",
            "Epoch 27/100\n",
            "100/100 [==============================] - 28s 284ms/step - loss: 0.5970 - acc: 0.9655 - val_loss: 0.5935 - val_acc: 0.9620\n",
            "Epoch 28/100\n",
            "100/100 [==============================] - 28s 284ms/step - loss: 0.5968 - acc: 0.9650 - val_loss: 0.6002 - val_acc: 0.9640\n",
            "Epoch 29/100\n",
            "100/100 [==============================] - 28s 284ms/step - loss: 0.5970 - acc: 0.9615 - val_loss: 0.6021 - val_acc: 0.9620\n",
            "Epoch 30/100\n",
            "100/100 [==============================] - 28s 284ms/step - loss: 0.5963 - acc: 0.9620 - val_loss: 0.5880 - val_acc: 0.9630\n",
            "Epoch 31/100\n",
            "100/100 [==============================] - 28s 284ms/step - loss: 0.5987 - acc: 0.9505 - val_loss: 0.5877 - val_acc: 0.9630\n",
            "Epoch 32/100\n",
            "100/100 [==============================] - 28s 284ms/step - loss: 0.5961 - acc: 0.9610 - val_loss: 0.5985 - val_acc: 0.9580\n",
            "Epoch 33/100\n",
            "100/100 [==============================] - 28s 284ms/step - loss: 0.5964 - acc: 0.9560 - val_loss: 0.5963 - val_acc: 0.9650\n",
            "Epoch 34/100\n",
            "100/100 [==============================] - 28s 284ms/step - loss: 0.5954 - acc: 0.9590 - val_loss: 0.5937 - val_acc: 0.9640\n",
            "Epoch 35/100\n",
            "100/100 [==============================] - 28s 283ms/step - loss: 0.5925 - acc: 0.9710 - val_loss: 0.5858 - val_acc: 0.9670\n",
            "Epoch 36/100\n",
            "100/100 [==============================] - 28s 283ms/step - loss: 0.5928 - acc: 0.9680 - val_loss: 0.6097 - val_acc: 0.9650\n",
            "Epoch 37/100\n",
            "100/100 [==============================] - 28s 283ms/step - loss: 0.5940 - acc: 0.9610 - val_loss: 0.5923 - val_acc: 0.9690\n",
            "Epoch 38/100\n",
            "100/100 [==============================] - 28s 283ms/step - loss: 0.5907 - acc: 0.9740 - val_loss: 0.5923 - val_acc: 0.9660\n",
            "Epoch 39/100\n",
            "100/100 [==============================] - 28s 284ms/step - loss: 0.5930 - acc: 0.9615 - val_loss: 0.5840 - val_acc: 0.9670\n",
            "Epoch 40/100\n",
            "100/100 [==============================] - 28s 284ms/step - loss: 0.5907 - acc: 0.9705 - val_loss: 0.5835 - val_acc: 0.9660\n",
            "Epoch 41/100\n",
            "100/100 [==============================] - 28s 284ms/step - loss: 0.5910 - acc: 0.9660 - val_loss: 0.5842 - val_acc: 0.9690\n",
            "Epoch 42/100\n",
            "100/100 [==============================] - 28s 284ms/step - loss: 0.5899 - acc: 0.9695 - val_loss: 0.6000 - val_acc: 0.9720\n",
            "Epoch 43/100\n",
            "100/100 [==============================] - 28s 284ms/step - loss: 0.5886 - acc: 0.9755 - val_loss: 0.5941 - val_acc: 0.9700\n",
            "Epoch 44/100\n",
            "100/100 [==============================] - 28s 284ms/step - loss: 0.5883 - acc: 0.9735 - val_loss: 0.5820 - val_acc: 0.9700\n",
            "Epoch 45/100\n",
            "100/100 [==============================] - 28s 284ms/step - loss: 0.5877 - acc: 0.9750 - val_loss: 0.5814 - val_acc: 0.9750\n",
            "Epoch 46/100\n",
            "100/100 [==============================] - 28s 284ms/step - loss: 0.5890 - acc: 0.9670 - val_loss: 0.5810 - val_acc: 0.9730\n",
            "Epoch 47/100\n",
            "100/100 [==============================] - 28s 285ms/step - loss: 0.5863 - acc: 0.9775 - val_loss: 0.5896 - val_acc: 0.9730\n",
            "Epoch 48/100\n",
            "100/100 [==============================] - 28s 284ms/step - loss: 0.5865 - acc: 0.9735 - val_loss: 0.5803 - val_acc: 0.9710\n",
            "Epoch 49/100\n",
            "100/100 [==============================] - 29s 285ms/step - loss: 0.5863 - acc: 0.9730 - val_loss: 0.5800 - val_acc: 0.9690\n",
            "Epoch 50/100\n",
            "100/100 [==============================] - 28s 284ms/step - loss: 0.5860 - acc: 0.9740 - val_loss: 0.5874 - val_acc: 0.9590\n",
            "Epoch 51/100\n",
            "100/100 [==============================] - 28s 285ms/step - loss: 0.5843 - acc: 0.9785 - val_loss: 0.5900 - val_acc: 0.9740\n",
            "Epoch 52/100\n",
            "100/100 [==============================] - 28s 284ms/step - loss: 0.5856 - acc: 0.9720 - val_loss: 0.6060 - val_acc: 0.9730\n",
            "Epoch 53/100\n",
            "100/100 [==============================] - 28s 284ms/step - loss: 0.5834 - acc: 0.9780 - val_loss: 0.6100 - val_acc: 0.9650\n",
            "Epoch 54/100\n",
            "100/100 [==============================] - 28s 285ms/step - loss: 0.5834 - acc: 0.9780 - val_loss: 0.5912 - val_acc: 0.9650\n",
            "Epoch 55/100\n",
            "100/100 [==============================] - 29s 285ms/step - loss: 0.5823 - acc: 0.9810 - val_loss: 0.5772 - val_acc: 0.9700\n",
            "Epoch 56/100\n",
            "100/100 [==============================] - 29s 285ms/step - loss: 0.5829 - acc: 0.9770 - val_loss: 0.5995 - val_acc: 0.9620\n",
            "Epoch 57/100\n",
            "100/100 [==============================] - 29s 286ms/step - loss: 0.5816 - acc: 0.9795 - val_loss: 0.5971 - val_acc: 0.9640\n",
            "Epoch 58/100\n",
            "100/100 [==============================] - 28s 285ms/step - loss: 0.5818 - acc: 0.9775 - val_loss: 0.5950 - val_acc: 0.9610\n",
            "Epoch 59/100\n",
            "100/100 [==============================] - 28s 285ms/step - loss: 0.5806 - acc: 0.9810 - val_loss: 0.5755 - val_acc: 0.9670\n",
            "Epoch 60/100\n",
            "100/100 [==============================] - 29s 285ms/step - loss: 0.5807 - acc: 0.9780 - val_loss: 0.5961 - val_acc: 0.9710\n",
            "Epoch 61/100\n",
            "100/100 [==============================] - 29s 285ms/step - loss: 0.5799 - acc: 0.9785 - val_loss: 0.5878 - val_acc: 0.9750\n",
            "Epoch 62/100\n",
            "100/100 [==============================] - 29s 285ms/step - loss: 0.5796 - acc: 0.9790 - val_loss: 0.5764 - val_acc: 0.9720\n",
            "Epoch 63/100\n",
            "100/100 [==============================] - 29s 285ms/step - loss: 0.5796 - acc: 0.9790 - val_loss: 0.5820 - val_acc: 0.9730\n",
            "Epoch 64/100\n",
            "100/100 [==============================] - 29s 285ms/step - loss: 0.5784 - acc: 0.9810 - val_loss: 0.5734 - val_acc: 0.9690\n",
            "Epoch 65/100\n",
            "100/100 [==============================] - 29s 285ms/step - loss: 0.5784 - acc: 0.9775 - val_loss: 0.5841 - val_acc: 0.9680\n",
            "Epoch 66/100\n",
            "100/100 [==============================] - 29s 285ms/step - loss: 0.5782 - acc: 0.9780 - val_loss: 0.5848 - val_acc: 0.9770\n",
            "Epoch 67/100\n",
            "100/100 [==============================] - 28s 284ms/step - loss: 0.5768 - acc: 0.9815 - val_loss: 0.5848 - val_acc: 0.9670\n",
            "Epoch 68/100\n",
            "100/100 [==============================] - 28s 285ms/step - loss: 0.5759 - acc: 0.9845 - val_loss: 0.5861 - val_acc: 0.9690\n",
            "Epoch 69/100\n",
            "100/100 [==============================] - 28s 284ms/step - loss: 0.5765 - acc: 0.9805 - val_loss: 0.5714 - val_acc: 0.9740\n",
            "Epoch 70/100\n",
            "100/100 [==============================] - 28s 284ms/step - loss: 0.5743 - acc: 0.9885 - val_loss: 0.5708 - val_acc: 0.9690\n",
            "Epoch 71/100\n",
            "100/100 [==============================] - 28s 284ms/step - loss: 0.5744 - acc: 0.9870 - val_loss: 0.5706 - val_acc: 0.9750\n",
            "Epoch 72/100\n",
            "100/100 [==============================] - 28s 284ms/step - loss: 0.5753 - acc: 0.9805 - val_loss: 0.5830 - val_acc: 0.9670\n",
            "Epoch 73/100\n",
            "100/100 [==============================] - 28s 284ms/step - loss: 0.5736 - acc: 0.9855 - val_loss: 0.5828 - val_acc: 0.9720\n",
            "Epoch 74/100\n",
            "100/100 [==============================] - 28s 283ms/step - loss: 0.5725 - acc: 0.9885 - val_loss: 0.5691 - val_acc: 0.9700\n",
            "Epoch 75/100\n",
            "100/100 [==============================] - 28s 284ms/step - loss: 0.5719 - acc: 0.9890 - val_loss: 0.5703 - val_acc: 0.9720\n",
            "Epoch 76/100\n",
            "100/100 [==============================] - 28s 284ms/step - loss: 0.5738 - acc: 0.9805 - val_loss: 0.5854 - val_acc: 0.9720\n",
            "Epoch 77/100\n",
            "100/100 [==============================] - 28s 283ms/step - loss: 0.5718 - acc: 0.9865 - val_loss: 0.5933 - val_acc: 0.9750\n",
            "Epoch 78/100\n",
            "100/100 [==============================] - 28s 284ms/step - loss: 0.5731 - acc: 0.9805 - val_loss: 0.5810 - val_acc: 0.9740\n",
            "Epoch 79/100\n",
            "100/100 [==============================] - 28s 284ms/step - loss: 0.5713 - acc: 0.9855 - val_loss: 0.5670 - val_acc: 0.9740\n",
            "Epoch 80/100\n",
            "100/100 [==============================] - 28s 284ms/step - loss: 0.5707 - acc: 0.9860 - val_loss: 0.5871 - val_acc: 0.9730\n",
            "Epoch 81/100\n",
            "100/100 [==============================] - 28s 284ms/step - loss: 0.5696 - acc: 0.9875 - val_loss: 0.5662 - val_acc: 0.9730\n",
            "Epoch 82/100\n",
            "100/100 [==============================] - 28s 284ms/step - loss: 0.5698 - acc: 0.9875 - val_loss: 0.6025 - val_acc: 0.9730\n",
            "Epoch 83/100\n",
            "100/100 [==============================] - 28s 284ms/step - loss: 0.5689 - acc: 0.9885 - val_loss: 0.5730 - val_acc: 0.9750\n",
            "Epoch 84/100\n",
            "100/100 [==============================] - 28s 284ms/step - loss: 0.5694 - acc: 0.9850 - val_loss: 0.5666 - val_acc: 0.9770\n",
            "Epoch 85/100\n",
            "100/100 [==============================] - 28s 284ms/step - loss: 0.5675 - acc: 0.9910 - val_loss: 0.5646 - val_acc: 0.9720\n",
            "Epoch 86/100\n",
            "100/100 [==============================] - 28s 283ms/step - loss: 0.5692 - acc: 0.9820 - val_loss: 0.5641 - val_acc: 0.9730\n",
            "Epoch 87/100\n",
            "100/100 [==============================] - 28s 284ms/step - loss: 0.5674 - acc: 0.9885 - val_loss: 0.5636 - val_acc: 0.9720\n",
            "Epoch 88/100\n",
            "100/100 [==============================] - 28s 284ms/step - loss: 0.5680 - acc: 0.9835 - val_loss: 0.5895 - val_acc: 0.9700\n",
            "Epoch 89/100\n",
            "100/100 [==============================] - 28s 284ms/step - loss: 0.5658 - acc: 0.9895 - val_loss: 0.5630 - val_acc: 0.9740\n",
            "Epoch 90/100\n",
            "100/100 [==============================] - 28s 284ms/step - loss: 0.5656 - acc: 0.9895 - val_loss: 0.5712 - val_acc: 0.9730\n",
            "Epoch 91/100\n",
            "100/100 [==============================] - 29s 285ms/step - loss: 0.5652 - acc: 0.9895 - val_loss: 0.5760 - val_acc: 0.9750\n",
            "Epoch 92/100\n",
            "100/100 [==============================] - 28s 284ms/step - loss: 0.5648 - acc: 0.9895 - val_loss: 0.5617 - val_acc: 0.9730\n",
            "Epoch 93/100\n",
            "100/100 [==============================] - 28s 284ms/step - loss: 0.5633 - acc: 0.9930 - val_loss: 0.5611 - val_acc: 0.9770\n",
            "Epoch 94/100\n",
            "100/100 [==============================] - 28s 284ms/step - loss: 0.5645 - acc: 0.9870 - val_loss: 0.5608 - val_acc: 0.9760\n",
            "Epoch 95/100\n",
            "100/100 [==============================] - 28s 284ms/step - loss: 0.5642 - acc: 0.9875 - val_loss: 0.5746 - val_acc: 0.9750\n",
            "Epoch 96/100\n",
            "100/100 [==============================] - 28s 284ms/step - loss: 0.5628 - acc: 0.9915 - val_loss: 0.5668 - val_acc: 0.9730\n",
            "Epoch 97/100\n",
            "100/100 [==============================] - 28s 284ms/step - loss: 0.5625 - acc: 0.9890 - val_loss: 0.5737 - val_acc: 0.9730\n",
            "Epoch 98/100\n",
            "100/100 [==============================] - 28s 284ms/step - loss: 0.5622 - acc: 0.9895 - val_loss: 0.5590 - val_acc: 0.9660\n",
            "Epoch 99/100\n",
            "100/100 [==============================] - 28s 284ms/step - loss: 0.5611 - acc: 0.9930 - val_loss: 0.5587 - val_acc: 0.9670\n",
            "Epoch 100/100\n",
            "100/100 [==============================] - 28s 284ms/step - loss: 0.5613 - acc: 0.9915 - val_loss: 0.5581 - val_acc: 0.9720\n"
          ],
          "name": "stdout"
        }
      ]
    },
    {
      "cell_type": "markdown",
      "metadata": {
        "id": "eVBQgh5M-Rtz",
        "colab_type": "text"
      },
      "source": [
        "## Display learning curves during fine-tuning"
      ]
    },
    {
      "cell_type": "code",
      "metadata": {
        "id": "mbkIw7Ie-NP4",
        "colab_type": "code",
        "outputId": "07dcd268-3fe4-4d43-ebbc-4bbec4b01db1",
        "colab": {
          "base_uri": "https://localhost:8080/",
          "height": 545
        }
      },
      "source": [
        "%matplotlib inline\n",
        "\n",
        "import matplotlib.pyplot as plt\n",
        "\n",
        "acc = history.history['acc']\n",
        "val_acc = history.history['val_acc']\n",
        "\n",
        "loss = history.history['loss']\n",
        "val_loss = history.history['val_loss']\n",
        "\n",
        "epochs = range(1, len(acc) + 1)\n",
        "\n",
        "# training and validation accuracy\n",
        "\n",
        "plt.plot(epochs, acc, 'bo', label='training acc')\n",
        "plt.plot(epochs, val_acc, 'b', label='validation acc')\n",
        "plt.title('training and validation accuracy')\n",
        "plt.legend()\n",
        "\n",
        "plt.figure()\n",
        "\n",
        "# training and validation loss\n",
        "\n",
        "plt.plot(epochs, loss, 'bo', label='training loss')\n",
        "plt.plot(epochs, val_loss, 'b', label='validation loss')\n",
        "plt.title('training and validation loss')\n",
        "plt.legend()\n",
        "\n",
        "plt.show()"
      ],
      "execution_count": 24,
      "outputs": [
        {
          "output_type": "display_data",
          "data": {
            "image/png": "[encoded data removed]",
            "text/plain": [
              "<Figure size 432x288 with 1 Axes>"
            ]
          },
          "metadata": {
            "tags": [],
            "needs_background": "light"
          }
        },
        {
          "output_type": "display_data",
          "data": {
            "image/png": "[encoded data removed]",
            "text/plain": [
              "<Figure size 432x288 with 1 Axes>"
            ]
          },
          "metadata": {
            "tags": [],
            "needs_background": "light"
          }
        }
      ]
    },
    {
      "cell_type": "markdown",
      "metadata": {
        "id": "he3Nw6TOJwjx",
        "colab_type": "text"
      },
      "source": [
        "## Print out validation loss and accuracy"
      ]
    },
    {
      "cell_type": "code",
      "metadata": {
        "id": "SVQtrk7uJdhl",
        "colab_type": "code",
        "colab": {}
      },
      "source": [
        "val_loss, val_acc = model.evaluate_generator(validation_generator, steps=50)"
      ],
      "execution_count": 0,
      "outputs": []
    },
    {
      "cell_type": "code",
      "metadata": {
        "id": "HpdddLi1SUMe",
        "colab_type": "code",
        "outputId": "0c0a1035-66db-409e-f2fa-7e644d25bd0b",
        "colab": {
          "base_uri": "https://localhost:8080/",
          "height": 50
        }
      },
      "source": [
        "print(\"Validation loss:\", val_loss)\n",
        "print(\"Validation accuracy:\", val_acc)"
      ],
      "execution_count": 26,
      "outputs": [
        {
          "output_type": "stream",
          "text": [
            "Validation loss: 0.5727039575576782\n",
            "Validation accuracy: 0.972000002861023\n"
          ],
          "name": "stdout"
        }
      ]
    }
  ]
}